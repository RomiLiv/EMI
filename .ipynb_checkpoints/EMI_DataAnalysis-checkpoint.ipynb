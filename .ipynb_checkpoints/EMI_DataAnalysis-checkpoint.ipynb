{
 "cells": [
  {
   "cell_type": "markdown",
   "id": "833848b9",
   "metadata": {},
   "source": [
    "# Parsing HRV data"
   ]
  },
  {
   "cell_type": "code",
   "execution_count": 4,
   "id": "fe631060",
   "metadata": {
    "scrolled": false
   },
   "outputs": [
    {
     "name": "stdout",
     "output_type": "stream",
     "text": [
      "Finished, look at your HRV excel file...\n"
     ]
    }
   ],
   "source": [
    "import pandas as pd\n",
    "import os, glob\n",
    "\n",
    "path = os.path.join(os.getcwd(),\"..\\HRV\")\n",
    "csv_files = glob.glob(os.path.join(path, \"*.xlsx\"))\n",
    "\n",
    "all_clients = {}\n",
    "\n",
    "for f in csv_files:\n",
    "\n",
    "    df = pd.read_excel(f, header=None, names=[\"param\",\"value\"])\n",
    "    \n",
    "    file_name = f.split(\"\\\\\")[-1].split(\"_\")\n",
    "    client_id = file_name[0]\n",
    "    \n",
    "    if client_id not in all_clients:\n",
    "        all_clients[client_id] = {}\n",
    "        \n",
    "    all_clients[client_id][file_name[1].split(\".\")[0]] = df\n",
    "    \n",
    "madad = [\"RSA\", \"Mean IBI\", \"SDNN\",\"AVNN\",\"RMSSD\",\"NN50\",\"pNN50\"]\n",
    "\n",
    "final_df_hrv = pd.DataFrame()\n",
    "\n",
    "\n",
    "all_client_dfs = []\n",
    "\n",
    "for client_id in all_clients:\n",
    "    columns = []\n",
    "    data = []\n",
    "    #print(\"Client id: \", client_id)\n",
    "    for data_type in all_clients[client_id]:\n",
    "        #print(\"Data type: \", data_type)\n",
    "        for m in madad:\n",
    "            columns.append(data_type + \"_\" + m)\n",
    "            v = all_clients[client_id][data_type].loc[all_clients[client_id][data_type][\"param\"]==m][\"value\"]\n",
    "            data.append(v.values[0])\n",
    "\n",
    "    client_df = pd.DataFrame(columns=columns)\n",
    "    client_df.loc[int(client_id)] = data\n",
    "    all_client_dfs.append( client_df)\n",
    "    \n",
    "final_df_hrv = pd.concat(all_client_dfs)\n",
    "\n",
    "final_df_hrv = final_df_hrv.sort_index(axis = 0)\n",
    "\n",
    "final_df_hrv.to_excel(\"HRV.xlsx\")  \n",
    "\n",
    "print(\"Finished, look at your HRV excel file...\")"
   ]
  },
  {
   "cell_type": "markdown",
   "id": "f51983f2",
   "metadata": {},
   "source": [
    "# Parsing GSC Data"
   ]
  },
  {
   "cell_type": "code",
   "execution_count": 6,
   "id": "c22ca026",
   "metadata": {},
   "outputs": [
    {
     "name": "stdout",
     "output_type": "stream",
     "text": [
      "Finished, look at your GSC excel file...\n"
     ]
    }
   ],
   "source": [
    "import pandas as pd\n",
    "import os, glob\n",
    "\n",
    "path = os.path.join(os.getcwd(),\"..\\GSC\")\n",
    "csv_files = glob.glob(os.path.join(path, \"*.xlsx\"))\n",
    "\n",
    "all_clients = {}\n",
    "\n",
    "for f in csv_files:\n",
    "\n",
    "    df = pd.read_excel(f, header=None, names=[\"param\",\"value\"])\n",
    "    \n",
    "    file_name = f.split(\"\\\\\")[-1].split(\"_\")\n",
    "    client_id = file_name[2]\n",
    "    \n",
    "    if client_id not in all_clients:\n",
    "        all_clients[client_id] = {}\n",
    "        \n",
    "    all_clients[client_id][file_name[1]] = df\n",
    "    \n",
    "madad = [\"Total SCRs\",\"ER-SCRs\",\"NS-SCRs\",\"Tonic SCL\",\"Mean SC\",\"Tonic Period\"]\n",
    "\n",
    "final_df_gsc = pd.DataFrame()\n",
    "\n",
    "\n",
    "all_client_dfs = []\n",
    "\n",
    "for client_id in all_clients:\n",
    "    columns = []\n",
    "    data = []\n",
    "    #print(\"Client id: \", client_id)\n",
    "    for data_type in all_clients[client_id]:\n",
    "        #print(\"Data type: \", data_type)\n",
    "        for m in madad:\n",
    "            #print(\"Madad: \",m)\n",
    "            columns.append(data_type + \"_\" + m)\n",
    "            v = all_clients[client_id][data_type].loc[all_clients[client_id][data_type][\"param\"]==m][\"value\"]\n",
    "            data.append(v.values[0])\n",
    "\n",
    "    client_df = pd.DataFrame(columns=columns)\n",
    "    client_df.loc[int(client_id)] = data\n",
    "    all_client_dfs.append( client_df)\n",
    "    \n",
    "final_df_gsc = pd.concat(all_client_dfs)\n",
    "\n",
    "final_df_gsc = final_df_gsc.sort_index(axis = 0)\n",
    "\n",
    "final_df_gsc.to_excel(\"GSC.xlsx\")  \n",
    "\n",
    "print(\"Finished, look at your GSC excel file...\")"
   ]
  },
  {
   "cell_type": "markdown",
   "id": "1f4e3b6b",
   "metadata": {},
   "source": [
    "### Found data mismatch between DB, HRV,GSC"
   ]
  },
  {
   "cell_type": "code",
   "execution_count": 15,
   "id": "43175d85",
   "metadata": {},
   "outputs": [
    {
     "name": "stdout",
     "output_type": "stream",
     "text": [
      "Subjects in DB 53 Subjects in GSC stats 49 Subjects in HRV stats 51\n",
      "Subjects that doesn't have all the data:  {346, 308, 317, 327}\n",
      "346 Missing in GSC\n",
      "346 Missing in HRV\n",
      "308 Missing in GSC\n",
      "317 Missing in GSC\n",
      "317 Missing in HRV\n",
      "327 Missing in GSC\n"
     ]
    }
   ],
   "source": [
    "db_df = pd.read_excel(\"DB.xlsx\")\n",
    "\n",
    "print(\"Subjects in DB\", len(db_df), \"Subjects in GSC stats\",len(final_df_gsc), \"Subjects in HRV stats\",len(final_df_hrv))\n",
    "\n",
    "a = set(db_df[\"ID\"].tolist())\n",
    "b = set(final_df_gsc.index.tolist())\n",
    "c = set(final_df_hrv.index.tolist())\n",
    "\n",
    "diff = (a | b | c) - (a & b & c)\n",
    "print(\"Subjects that doesn't have all the data: \",diff)\n",
    "for d in diff:\n",
    "    if d not in a:\n",
    "        print(d, \"Missing in DB\")\n",
    "    if d not in b:\n",
    "        print(d, \"Missing in GSC\")\n",
    "    if d not in c:\n",
    "        print(d, \"Missing in HRV\")\n"
   ]
  },
  {
   "cell_type": "markdown",
   "id": "79f2a196",
   "metadata": {},
   "source": [
    "# Merging HRV and GSC to the DB"
   ]
  },
  {
   "cell_type": "code",
   "execution_count": 16,
   "id": "eb557363",
   "metadata": {},
   "outputs": [],
   "source": [
    "db_df = db_df.set_index(\"ID\")\n",
    "\n",
    "db_df = db_df.merge(final_df_gsc, how='left', left_index=True, right_index=True)\n",
    "db_df = db_df.merge(final_df_hrv, how='left',left_index=True, right_index=True)\n",
    "\n",
    "db_df.to_excel(\"Merged_DB.xlsx\")  "
   ]
  },
  {
   "cell_type": "markdown",
   "id": "dfc8f88a",
   "metadata": {},
   "source": [
    "# Experiments with linear regression"
   ]
  },
  {
   "cell_type": "code",
   "execution_count": 25,
   "id": "b2683d71",
   "metadata": {},
   "outputs": [
    {
     "name": "stdout",
     "output_type": "stream",
     "text": [
      "                  X                 Y         V\n",
      "0     base_Mean IBI         base_AVNN  1.000000\n",
      "0      sim_Mean IBI          sim_AVNN  1.000000\n",
      "0      S_Total SCRs         S_NS-SCRs  0.999920\n",
      "0      B_Total SCRs         B_NS-SCRs  0.999488\n",
      "0       B_Tonic SCL         B_Mean SC  0.998697\n",
      "0       S_Tonic SCL         S_Mean SC  0.997147\n",
      "0          sim_NN50         sim_pNN50  0.985172\n",
      "0         B_Mean SC         S_Mean SC  0.957794\n",
      "0       B_Tonic SCL         S_Mean SC  0.955307\n",
      "0         sim_RMSSD          sim_NN50  0.949403\n",
      "0         base_NN50        base_pNN50  0.948033\n",
      "0        base_RMSSD        base_pNN50  0.946755\n",
      "0         sim_RMSSD         sim_pNN50  0.945064\n",
      "0         B_Mean SC       S_Tonic SCL  0.942479\n",
      "0       B_Tonic SCL       S_Tonic SCL  0.940395\n",
      "0     base_Mean IBI      sim_Mean IBI  0.891304\n",
      "0     base_Mean IBI          sim_AVNN  0.891304\n",
      "0         base_AVNN      sim_Mean IBI  0.891304\n",
      "0         base_AVNN          sim_AVNN  0.891304\n",
      "0        base_RMSSD         base_NN50  0.876588\n",
      "0           sim_RSA         sim_RMSSD  0.873894\n",
      "0          base_RSA        base_RMSSD  0.851744\n",
      "0          sim_SDNN         sim_RMSSD  0.821290\n",
      "0           sim_RSA          sim_NN50  0.803581\n",
      "0          sim_SDNN         sim_pNN50  0.793395\n",
      "0          sim_SDNN          sim_NN50  0.779035\n",
      "0          base_RSA        base_pNN50  0.777375\n",
      "0           sim_RSA         sim_pNN50  0.769265\n",
      "0          base_RSA         base_NN50  0.724932\n",
      "0          base_RSA         base_SDNN  0.718903\n",
      "0         base_SDNN        base_RMSSD  0.714040\n",
      "0  SIM_MER_0M_CodeD  SIM_MER_0M_CodeF  0.711117\n",
      "0           sim_RSA          sim_SDNN  0.705045\n",
      "0        base_RMSSD         sim_RMSSD  0.701210\n"
     ]
    }
   ],
   "source": [
    "import numpy as np\n",
    "import matplotlib.pyplot as plt  # To visualize\n",
    "import pandas as pd  # To read data\n",
    "from sklearn.linear_model import LinearRegression\n",
    "\n",
    "all_cors_dfs = []\n",
    "def get_highly_correlated(df, features, threshold=0.7):\n",
    "    \"\"\"Prints highly correlated features pairs in the data frame (helpful for feature engineering)\"\"\"\n",
    "    corr_df = df[features].corr(method='pearson') # get correlations\n",
    "    correlated_features = np.where(np.abs(corr_df) >= threshold) # select ones above the abs threshold\n",
    "    correlated_features = [(corr_df.iloc[x,y], x, y) for x, y in zip(*correlated_features) if x != y and x < y] # avoid duplication\n",
    "    s_corr_list = sorted(correlated_features, key=lambda x: -abs(x[0])) # sort by correlation value\n",
    "\n",
    "    if s_corr_list == []:\n",
    "        print(\"There are no highly correlated features with correlation above\", threshold)\n",
    "    else:\n",
    "        for v, i, j in s_corr_list:\n",
    "            cols = df[features].columns\n",
    "            cor_df = pd.DataFrame([[corr_df.index[i], corr_df.columns[j], v]],columns=[\"X\",\"Y\",\"V\"])\n",
    "            all_cors_dfs.append(cor_df)\n",
    "\n",
    "all_corrs = pd.DataFrame()\n",
    "get_highly_correlated(db_df, db_df.columns)\n",
    "all_corrs = pd.concat(all_cors_dfs,ignore_index=False)\n",
    "\n",
    "print(all_corrs)\n",
    "\n",
    "all_corrs.to_excel(\"Correlations.xlsx\")  \n"
   ]
  },
  {
   "cell_type": "code",
   "execution_count": 26,
   "id": "08c7c724",
   "metadata": {},
   "outputs": [
    {
     "data": {
      "text/plain": [
       "<AxesSubplot:>"
      ]
     },
     "execution_count": 26,
     "metadata": {},
     "output_type": "execute_result"
    },
    {
     "data": {
      "image/png": "[encoded data removed]",
      "text/plain": [
       "<Figure size 432x288 with 2 Axes>"
      ]
     },
     "metadata": {
      "needs_background": "light"
     },
     "output_type": "display_data"
    }
   ],
   "source": [
    "import seaborn as sns\n",
    "sns.heatmap(db_df.corr(method='pearson'))"
   ]
  },
  {
   "cell_type": "code",
   "execution_count": 35,
   "id": "89d43e61",
   "metadata": {},
   "outputs": [
    {
     "data": {
      "image/png": "[encoded data removed]",
      "text/plain": [
       "<Figure size 1008x576 with 1 Axes>"
      ]
     },
     "metadata": {
      "needs_background": "light"
     },
     "output_type": "display_data"
    }
   ],
   "source": [
    "# creating X-Y Plots With a Regression Line\n",
    "import scipy\n",
    "from numpy import mean\n",
    "from numpy import std\n",
    "from matplotlib import pyplot\n",
    "\n",
    "# slope, intersept, and correlation coefficient calculation \n",
    "col1 = all_corrs.iloc[-1][\"X\"]\n",
    "col2 = all_corrs.iloc[-1][\"Y\"]\n",
    "\n",
    "\n",
    "# Remove NANs\n",
    "mask = ~np.isnan(db_df[col1]) & ~np.isnan(db_df[col2])\n",
    "\n",
    "slope, intercept, r, p, stderr = scipy.stats.linregress(db_df[col1][mask], db_df[col2][mask])\n",
    "\n",
    "line = f'Regression line: y={intercept:.2f}+{slope:.2f}x, r={r:.2f}'\n",
    "\n",
    "# plotting\n",
    "fig, ax = pyplot.subplots(figsize = (14,8))\n",
    "ax.plot(db_df[col1], db_df[col2], linewidth=0, marker='s', label='Data points')\n",
    "ax.plot(db_df[col1], intercept + slope * db_df[col1], label=line)\n",
    "ax.set_xlabel(col1)\n",
    "ax.set_ylabel(col2)\n",
    "ax.legend(facecolor='white')\n",
    "pyplot.show()"
   ]
  }
 ],
 "metadata": {
  "kernelspec": {
   "display_name": "Python 3 (ipykernel)",
   "language": "python",
   "name": "python3"
  },
  "language_info": {
   "codemirror_mode": {
    "name": "ipython",
    "version": 3
   },
   "file_extension": ".py",
   "mimetype": "text/x-python",
   "name": "python",
   "nbconvert_exporter": "python",
   "pygments_lexer": "ipython3",
   "version": "3.9.12"
  }
 },
 "nbformat": 4,
 "nbformat_minor": 5
}
